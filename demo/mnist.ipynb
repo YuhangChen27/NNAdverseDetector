{
 "cells": [
  {
   "cell_type": "code",
   "execution_count": 1,
   "metadata": {},
   "outputs": [],
   "source": [
    "import numpy as np\n",
    "\n",
    "from nnadvdet.core.maxprob.maxprob import MaxProb\n",
    "from nnadvdet.core.ginicoef.ginicoef import DeepGini\n",
    "from nnadvdet.core.reliable_bound import ReliableBound\n",
    "from torchvision import transforms\n",
    "from util.custom_transform import Translation2D\n",
    "from copy import deepcopy\n",
    "from torch.utils.data import DataLoader\n",
    "from util.load_data import SelectDataset\n",
    "import torch\n",
    "from tqdm import tqdm"
   ]
  },
  {
   "cell_type": "code",
   "execution_count": 2,
   "metadata": {
    "pycharm": {
     "name": "#%%\n"
    }
   },
   "outputs": [],
   "source": [
    "config = {\n",
    "    'num_classes': 10,\n",
    "    'ReliableBound': {\n",
    "        'occ_name': 'ocsvm',\n",
    "        'occ_config': {\n",
    "            'epochs': 1000,\n",
    "            'batch_size': 100000,\n",
    "            'nu': 0.1,\n",
    "            'scale': True\n",
    "        }\n",
    "    }\n",
    "}"
   ]
  },
  {
   "cell_type": "code",
   "execution_count": 3,
   "metadata": {
    "pycharm": {
     "name": "#%%\n"
    }
   },
   "outputs": [],
   "source": [
    "def build_translate_loader(input_size, factor, dataset='MNIST', batch_size=1000):\n",
    "    translation_range = int(input_size * factor)\n",
    "    loaders = {}\n",
    "    for i in range(-translation_range, translation_range+1):\n",
    "        for j in range(-translation_range, translation_range+1):\n",
    "            trans_t = transforms.Compose([\n",
    "                transforms.ToTensor(),\n",
    "                transforms.Resize(input_size),\n",
    "                Translation2D(i, j)\n",
    "            ])\n",
    "            data_t = SelectDataset(dataset, None, True, transform=trans_t)\n",
    "            loaders[f'{i}{j}'] = DataLoader(data_t.dataset, batch_size=batch_size, shuffle=False, num_workers=4)\n",
    "    return loaders"
   ]
  },
  {
   "cell_type": "code",
   "execution_count": 4,
   "metadata": {
    "pycharm": {
     "name": "#%%\n"
    }
   },
   "outputs": [],
   "source": [
    "device = torch.device(\"cuda:0\" if torch.cuda.is_available() else \"cpu\")\n",
    "model_name = 'LeNet5'\n",
    "num_classes = 10\n",
    "input_size = 32\n",
    "model = torch.load('../checkpoints/mnist_lenet5.pth')\n",
    "model.to(device)\n",
    "model.eval()\n",
    "loader_set = build_translate_loader(input_size, 0.1, batch_size=1000)"
   ]
  },
  {
   "cell_type": "code",
   "execution_count": 5,
   "metadata": {
    "pycharm": {
     "name": "#%%\n"
    }
   },
   "outputs": [],
   "source": [
    "logits = []\n",
    "preds = []\n",
    "label_collect = []"
   ]
  },
  {
   "cell_type": "code",
   "execution_count": 6,
   "metadata": {
    "pycharm": {
     "name": "#%%\n"
    }
   },
   "outputs": [
    {
     "name": "stderr",
     "output_type": "stream",
     "text": [
      "100%|██████████| 2940/2940 [03:34<00:00, 13.72it/s]\n"
     ]
    }
   ],
   "source": [
    "pbar = tqdm(total=len(loader_set)*len(loader_set['00']))\n",
    "for idx, loader in enumerate(loader_set):\n",
    "    for inputs, labels in loader_set[loader]:\n",
    "        inputs = inputs.to(device)\n",
    "        labels = labels.to(device)\n",
    "\n",
    "        logit_tmp = model(inputs)\n",
    "        _, pred_tmp = torch.max(logit_tmp, 1)\n",
    "        label_tmp = labels.data\n",
    "\n",
    "        logits.extend(deepcopy(logit_tmp.detach().cpu().numpy().tolist()))\n",
    "        preds.extend(deepcopy(pred_tmp.cpu().numpy().tolist()))\n",
    "        label_collect.extend(deepcopy(label_tmp.cpu().numpy().tolist()))\n",
    "        pbar.update(1)\n",
    "pbar.close()"
   ]
  },
  {
   "cell_type": "code",
   "execution_count": 7,
   "outputs": [],
   "source": [
    "logits = np.asarray(logits, dtype=np.float32)\n",
    "preds = np.asarray(preds, dtype=int)\n",
    "label_collect = np.asarray(label_collect, dtype=int)"
   ],
   "metadata": {
    "collapsed": false,
    "pycharm": {
     "name": "#%%\n"
    }
   }
  },
  {
   "cell_type": "code",
   "execution_count": 8,
   "outputs": [
    {
     "name": "stdout",
     "output_type": "stream",
     "text": [
      "1 2 10\n"
     ]
    }
   ],
   "source": [
    "print(len([logits]), [logits][0].ndim, [logits][0].shape[-1])"
   ],
   "metadata": {
    "collapsed": false,
    "pycharm": {
     "name": "#%%\n"
    }
   }
  },
  {
   "cell_type": "code",
   "execution_count": 9,
   "metadata": {
    "pycharm": {
     "name": "#%%\n"
    }
   },
   "outputs": [],
   "source": [
    "adv_det0 = MaxProb(config)\n",
    "adv_det1 = DeepGini(config)\n",
    "adv_det2 = ReliableBound(config)"
   ]
  },
  {
   "cell_type": "code",
   "execution_count": 10,
   "metadata": {
    "pycharm": {
     "name": "#%%\n"
    }
   },
   "outputs": [
    {
     "name": "stderr",
     "output_type": "stream",
     "text": [
      "2022-03-24 12:05:29.821 | INFO     | nnadvdet.core.maxprob.maxprob:build_detector:13 - MaxProb build finished.\n"
     ]
    }
   ],
   "source": [
    "adv_det0.build_detector([logits], preds, label_collect)"
   ]
  },
  {
   "cell_type": "code",
   "execution_count": 11,
   "outputs": [
    {
     "name": "stderr",
     "output_type": "stream",
     "text": [
      "2022-03-24 12:05:29.824 | INFO     | nnadvdet.core.ginicoef.ginicoef:build_detector:13 - DeepGini build finished.\n"
     ]
    }
   ],
   "source": [
    "adv_det1.build_detector([logits], preds, label_collect)"
   ],
   "metadata": {
    "collapsed": false,
    "pycharm": {
     "name": "#%%\n"
    }
   }
  },
  {
   "cell_type": "code",
   "execution_count": 12,
   "outputs": [
    {
     "name": "stderr",
     "output_type": "stream",
     "text": [
      "2022-03-24 12:05:29.874 | INFO     | nnadvdet.core.reliable_bound.ocsvm:train:28 - Build start......\n",
      " 83%|████████▎ | 2100000000/2530080000 [01:32<00:18, 22711131.34it/s]\n",
      "2022-03-24 12:07:02.341 | INFO     | nnadvdet.core.reliable_bound.ocsvm:train:30 - Calculating boundaries for each class......\n",
      "2022-03-24 12:07:04.081 | INFO     | nnadvdet.core.reliable_bound.ocsvm:train:32 - Build finished......\n",
      "2022-03-24 12:07:04.083 | INFO     | nnadvdet.core.reliable_bound.reliable_bound:build_detector:35 - \n"
     ]
    }
   ],
   "source": [
    "adv_det2.build_detector([logits], preds, label_collect)"
   ],
   "metadata": {
    "collapsed": false,
    "pycharm": {
     "name": "#%%\n"
    }
   }
  },
  {
   "cell_type": "code",
   "execution_count": 13,
   "outputs": [
    {
     "name": "stderr",
     "output_type": "stream",
     "text": [
      "100it [00:06, 15.69it/s]                      \n"
     ]
    }
   ],
   "source": [
    "trans_t2 = transforms.Compose([\n",
    "    transforms.ToTensor(),\n",
    "    transforms.Resize(input_size)\n",
    "])\n",
    "data_t2 = SelectDataset('MNIST', None, False, transform=trans_t2)\n",
    "loader_test = DataLoader(data_t2.dataset, batch_size=1000, shuffle=False, num_workers=4)\n",
    "logits_test = []\n",
    "preds_test = []\n",
    "label_test = []\n",
    "pbar2 = tqdm(total=len(loader_test))\n",
    "for idx, loader in enumerate(loader_test):\n",
    "    for inputs, labels in loader_test:\n",
    "        inputs = inputs.to(device)\n",
    "        labels = labels.to(device)\n",
    "\n",
    "        logit_tmp = model(inputs)\n",
    "        _, pred_tmp = torch.max(logit_tmp, 1)\n",
    "        label_tmp = labels.data\n",
    "\n",
    "        logits_test.extend(deepcopy(logit_tmp.detach().cpu().numpy().tolist()))\n",
    "        preds_test.extend(deepcopy(pred_tmp.cpu().numpy().tolist()))\n",
    "        label_test.extend(deepcopy(label_tmp.cpu().numpy().tolist()))\n",
    "        pbar2.update(1)\n",
    "pbar2.close()\n",
    "logits_test = np.asarray(logits_test, dtype=np.float32)\n",
    "preds_test = np.asarray(preds_test, dtype=int)\n",
    "label_test = np.asarray(label_test, dtype=int)\n",
    "flag_test = np.zeros(logits_test.shape[0], dtype=int)\n",
    "flag_test[preds_test==label_test] = 1"
   ],
   "metadata": {
    "collapsed": false,
    "pycharm": {
     "name": "#%%\n"
    }
   }
  },
  {
   "cell_type": "code",
   "execution_count": 14,
   "outputs": [],
   "source": [
    "result0 = adv_det0.batched_detect([logits_test])\n",
    "result1 = adv_det1.batched_detect([logits_test])"
   ],
   "metadata": {
    "collapsed": false,
    "pycharm": {
     "name": "#%%\n"
    }
   }
  },
  {
   "cell_type": "code",
   "execution_count": 15,
   "outputs": [
    {
     "name": "stdout",
     "output_type": "stream",
     "text": [
      "(100000,) (100000,)\n"
     ]
    }
   ],
   "source": [
    "print(result0.shape, result1.shape)"
   ],
   "metadata": {
    "collapsed": false,
    "pycharm": {
     "name": "#%%\n"
    }
   }
  },
  {
   "cell_type": "code",
   "execution_count": 16,
   "outputs": [
    {
     "name": "stdout",
     "output_type": "stream",
     "text": [
      "0.9789382151525658\n",
      "0.9790754666551086\n"
     ]
    }
   ],
   "source": [
    "from sklearn.metrics import roc_curve, auc\n",
    "fpr0, tpr0, thres0 = roc_curve(flag_test, result0)\n",
    "fpr1, tpr1, thres1 = roc_curve(flag_test, result1)\n",
    "print(auc(fpr0, tpr0))\n",
    "print(auc(fpr1, tpr1))"
   ],
   "metadata": {
    "collapsed": false,
    "pycharm": {
     "name": "#%%\n"
    }
   }
  },
  {
   "cell_type": "code",
   "execution_count": 17,
   "outputs": [],
   "source": [
    "result2 = []\n",
    "for i in range(logits_test.shape[0]):\n",
    "    result2.append(adv_det2.detect(logits_test[i].reshape(1, -1), x_pred=preds_test[i]))\n",
    "result2 = np.asarray(result2)"
   ],
   "metadata": {
    "collapsed": false,
    "pycharm": {
     "name": "#%%\n"
    }
   }
  },
  {
   "cell_type": "code",
   "execution_count": 18,
   "outputs": [
    {
     "name": "stdout",
     "output_type": "stream",
     "text": [
      "0.7621816098580851 0.6324449045488738\n"
     ]
    }
   ],
   "source": [
    "print(result2[flag_test==1].mean(), result2[flag_test==0].mean())"
   ],
   "metadata": {
    "collapsed": false,
    "pycharm": {
     "name": "#%%\n"
    }
   }
  },
  {
   "cell_type": "code",
   "execution_count": 19,
   "outputs": [
    {
     "name": "stdout",
     "output_type": "stream",
     "text": [
      "0.8369966842926491\n"
     ]
    }
   ],
   "source": [
    "fpr2, tpr2, thres2 = roc_curve(flag_test, result2)\n",
    "print(auc(fpr2, tpr2))"
   ],
   "metadata": {
    "collapsed": false,
    "pycharm": {
     "name": "#%%\n"
    }
   }
  }
 ],
 "metadata": {
  "kernelspec": {
   "display_name": "Python 3 (ipykernel)",
   "language": "python",
   "name": "python3"
  },
  "language_info": {
   "codemirror_mode": {
    "name": "ipython",
    "version": 3
   },
   "file_extension": ".py",
   "mimetype": "text/x-python",
   "name": "python",
   "nbconvert_exporter": "python",
   "pygments_lexer": "ipython3",
   "version": "3.8.10"
  }
 },
 "nbformat": 4,
 "nbformat_minor": 1
}